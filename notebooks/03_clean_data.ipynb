{
 "cells": [
  {
   "cell_type": "code",
   "execution_count": 1,
   "metadata": {},
   "outputs": [],
   "source": [
    "# Importaciones\n",
    "import pandas as pd\n",
    "import sys\n",
    "import os\n",
    "sys.path.append(\"../\")\n",
    "from src import call_api_demanda as demanda\n",
    "from src import soporte_clean as clean"
   ]
  },
  {
   "cell_type": "code",
   "execution_count": null,
   "metadata": {},
   "outputs": [
    {
     "data": {
      "text/html": [
       "<div>\n",
       "<style scoped>\n",
       "    .dataframe tbody tr th:only-of-type {\n",
       "        vertical-align: middle;\n",
       "    }\n",
       "\n",
       "    .dataframe tbody tr th {\n",
       "        vertical-align: top;\n",
       "    }\n",
       "\n",
       "    .dataframe thead th {\n",
       "        text-align: right;\n",
       "    }\n",
       "</style>\n",
       "<table border=\"1\" class=\"dataframe\">\n",
       "  <thead>\n",
       "    <tr style=\"text-align: right;\">\n",
       "      <th></th>\n",
       "      <th>value</th>\n",
       "      <th>percentage</th>\n",
       "      <th>datetime</th>\n",
       "      <th>title</th>\n",
       "      <th>comunidad</th>\n",
       "      <th>codigo</th>\n",
       "    </tr>\n",
       "  </thead>\n",
       "  <tbody>\n",
       "    <tr>\n",
       "      <th>67</th>\n",
       "      <td>203766.54</td>\n",
       "      <td>1</td>\n",
       "      <td>2019-08-01T00:00:00.000+02:00</td>\n",
       "      <td>Generación renovable</td>\n",
       "      <td>Región de Murcia</td>\n",
       "      <td>21</td>\n",
       "    </tr>\n",
       "    <tr>\n",
       "      <th>64</th>\n",
       "      <td>6761.634</td>\n",
       "      <td>0.007198</td>\n",
       "      <td>2020-05-01T00:00:00.000+02:00</td>\n",
       "      <td>Residuos renovables</td>\n",
       "      <td>Cataluña</td>\n",
       "      <td>9</td>\n",
       "    </tr>\n",
       "    <tr>\n",
       "      <th>65</th>\n",
       "      <td>179161.238</td>\n",
       "      <td>1</td>\n",
       "      <td>2021-06-01T00:00:00.000+02:00</td>\n",
       "      <td>Generación renovable</td>\n",
       "      <td>Canarias</td>\n",
       "      <td>8742</td>\n",
       "    </tr>\n",
       "    <tr>\n",
       "      <th>42</th>\n",
       "      <td>14086.011</td>\n",
       "      <td>0.061982</td>\n",
       "      <td>2021-07-01T00:00:00.000+02:00</td>\n",
       "      <td>Solar térmica</td>\n",
       "      <td>Comunitat Valenciana</td>\n",
       "      <td>15</td>\n",
       "    </tr>\n",
       "    <tr>\n",
       "      <th>57</th>\n",
       "      <td>3436.84</td>\n",
       "      <td>0.088035</td>\n",
       "      <td>2020-10-01T00:00:00.000+02:00</td>\n",
       "      <td>Residuos renovables</td>\n",
       "      <td>Cantabria</td>\n",
       "      <td>6</td>\n",
       "    </tr>\n",
       "  </tbody>\n",
       "</table>\n",
       "</div>"
      ],
      "text/plain": [
       "         value percentage                       datetime  \\\n",
       "67   203766.54          1  2019-08-01T00:00:00.000+02:00   \n",
       "64    6761.634   0.007198  2020-05-01T00:00:00.000+02:00   \n",
       "65  179161.238          1  2021-06-01T00:00:00.000+02:00   \n",
       "42   14086.011   0.061982  2021-07-01T00:00:00.000+02:00   \n",
       "57     3436.84   0.088035  2020-10-01T00:00:00.000+02:00   \n",
       "\n",
       "                   title             comunidad codigo  \n",
       "67  Generación renovable      Región de Murcia     21  \n",
       "64   Residuos renovables              Cataluña      9  \n",
       "65  Generación renovable              Canarias   8742  \n",
       "42         Solar térmica  Comunitat Valenciana     15  \n",
       "57   Residuos renovables             Cantabria      6  "
      ]
     },
     "metadata": {},
     "output_type": "display_data"
    },
    {
     "data": {
      "text/plain": [
       "3557"
      ]
     },
     "metadata": {},
     "output_type": "display_data"
    }
   ],
   "source": [
    "path_ficheros = \"../data/generacion\"\n",
    "\n",
    "df_final_generacion = pd.DataFrame()\n",
    "\n",
    "for f in os.listdir(path_ficheros):\n",
    "   ruta_carpeta = path_ficheros + '/' + f\n",
    "   df = pd.read_csv(ruta_carpeta, index_col = 0)\n",
    "   df_final_generacion =  pd.concat([df_final_generacion, clean.clean_generacion(df,f)])\n",
    "\n",
    "display(df_final_generacion.sample(5))\n",
    "display(df_final_generacion.shape[0])"
   ]
  }
 ],
 "metadata": {
  "kernelspec": {
   "display_name": "entorno_develop",
   "language": "python",
   "name": "python3"
  },
  "language_info": {
   "codemirror_mode": {
    "name": "ipython",
    "version": 3
   },
   "file_extension": ".py",
   "mimetype": "text/x-python",
   "name": "python",
   "nbconvert_exporter": "python",
   "pygments_lexer": "ipython3",
   "version": "3.12.4"
  }
 },
 "nbformat": 4,
 "nbformat_minor": 2
}
