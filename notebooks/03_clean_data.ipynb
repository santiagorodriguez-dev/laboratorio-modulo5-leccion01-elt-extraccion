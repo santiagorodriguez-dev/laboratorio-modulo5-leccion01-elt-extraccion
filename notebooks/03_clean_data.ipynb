{
 "cells": [
  {
   "cell_type": "code",
   "execution_count": 6,
   "metadata": {},
   "outputs": [],
   "source": [
    "# Importaciones\n",
    "import pandas as pd\n",
    "import sys\n",
    "import os\n",
    "sys.path.append(\"../\")\n",
    "from src import call_api_demanda as demanda\n",
    "from src import soporte_clean as clean"
   ]
  },
  {
   "cell_type": "code",
   "execution_count": null,
   "metadata": {},
   "outputs": [],
   "source": [
    "path = \"../data/generacion/2021_generacion_estructura_La Rioja_20.csv\"\n",
    "\n",
    "df = pd.read_csv(path, index_col = 0)"
   ]
  },
  {
   "cell_type": "code",
   "execution_count": 8,
   "metadata": {},
   "outputs": [],
   "source": [
    "path_ficheros = \"../data/generacion\""
   ]
  },
  {
   "cell_type": "code",
   "execution_count": 12,
   "metadata": {},
   "outputs": [
    {
     "data": {
      "text/html": [
       "<div>\n",
       "<style scoped>\n",
       "    .dataframe tbody tr th:only-of-type {\n",
       "        vertical-align: middle;\n",
       "    }\n",
       "\n",
       "    .dataframe tbody tr th {\n",
       "        vertical-align: top;\n",
       "    }\n",
       "\n",
       "    .dataframe thead th {\n",
       "        text-align: right;\n",
       "    }\n",
       "</style>\n",
       "<table border=\"1\" class=\"dataframe\">\n",
       "  <thead>\n",
       "    <tr style=\"text-align: right;\">\n",
       "      <th></th>\n",
       "      <th>value</th>\n",
       "      <th>percentage</th>\n",
       "      <th>datetime</th>\n",
       "      <th>title</th>\n",
       "      <th>comunidad</th>\n",
       "      <th>codigo</th>\n",
       "    </tr>\n",
       "  </thead>\n",
       "  <tbody>\n",
       "    <tr>\n",
       "      <th>0</th>\n",
       "      <td>15402.108</td>\n",
       "      <td>0.104238</td>\n",
       "      <td>2021-01-01T00:00:00.000+01:00</td>\n",
       "      <td>Hidráulica</td>\n",
       "      <td>Andalucía</td>\n",
       "      <td>4</td>\n",
       "    </tr>\n",
       "    <tr>\n",
       "      <th>1</th>\n",
       "      <td>20891.095</td>\n",
       "      <td>0.191163</td>\n",
       "      <td>2021-02-01T00:00:00.000+01:00</td>\n",
       "      <td>Hidráulica</td>\n",
       "      <td>Andalucía</td>\n",
       "      <td>4</td>\n",
       "    </tr>\n",
       "    <tr>\n",
       "      <th>2</th>\n",
       "      <td>17755.933</td>\n",
       "      <td>0.12891</td>\n",
       "      <td>2021-03-01T00:00:00.000+01:00</td>\n",
       "      <td>Hidráulica</td>\n",
       "      <td>Andalucía</td>\n",
       "      <td>4</td>\n",
       "    </tr>\n",
       "    <tr>\n",
       "      <th>3</th>\n",
       "      <td>12484.9</td>\n",
       "      <td>0.119476</td>\n",
       "      <td>2021-04-01T00:00:00.000+02:00</td>\n",
       "      <td>Hidráulica</td>\n",
       "      <td>Andalucía</td>\n",
       "      <td>4</td>\n",
       "    </tr>\n",
       "    <tr>\n",
       "      <th>4</th>\n",
       "      <td>12626.526</td>\n",
       "      <td>0.182388</td>\n",
       "      <td>2021-05-01T00:00:00.000+02:00</td>\n",
       "      <td>Hidráulica</td>\n",
       "      <td>Andalucía</td>\n",
       "      <td>4</td>\n",
       "    </tr>\n",
       "  </tbody>\n",
       "</table>\n",
       "</div>"
      ],
      "text/plain": [
       "       value percentage                       datetime       title  comunidad  \\\n",
       "0  15402.108   0.104238  2021-01-01T00:00:00.000+01:00  Hidráulica  Andalucía   \n",
       "1  20891.095   0.191163  2021-02-01T00:00:00.000+01:00  Hidráulica  Andalucía   \n",
       "2  17755.933    0.12891  2021-03-01T00:00:00.000+01:00  Hidráulica  Andalucía   \n",
       "3    12484.9   0.119476  2021-04-01T00:00:00.000+02:00  Hidráulica  Andalucía   \n",
       "4  12626.526   0.182388  2021-05-01T00:00:00.000+02:00  Hidráulica  Andalucía   \n",
       "\n",
       "  codigo  \n",
       "0      4  \n",
       "1      4  \n",
       "2      4  \n",
       "3      4  \n",
       "4      4  "
      ]
     },
     "metadata": {},
     "output_type": "display_data"
    },
    {
     "data": {
      "text/plain": [
       "3240"
      ]
     },
     "metadata": {},
     "output_type": "display_data"
    }
   ],
   "source": [
    "df_final = pd.DataFrame()\n",
    "\n",
    "for f in os.listdir(path_ficheros):\n",
    "   df_final =  pd.concat([df_final, clean.clean_generacion(df,f)])\n",
    "\n",
    "display(df_final.head())\n",
    "display(df_final.shape[0])"
   ]
  }
 ],
 "metadata": {
  "kernelspec": {
   "display_name": "entorno_develop",
   "language": "python",
   "name": "python3"
  },
  "language_info": {
   "codemirror_mode": {
    "name": "ipython",
    "version": 3
   },
   "file_extension": ".py",
   "mimetype": "text/x-python",
   "name": "python",
   "nbconvert_exporter": "python",
   "pygments_lexer": "ipython3",
   "version": "3.12.4"
  }
 },
 "nbformat": 4,
 "nbformat_minor": 2
}
